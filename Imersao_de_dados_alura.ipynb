{
  "nbformat": 4,
  "nbformat_minor": 0,
  "metadata": {
    "colab": {
      "name": "Imersao_de_dados_alura.ipynb",
      "provenance": [],
      "include_colab_link": true
    },
    "kernelspec": {
      "name": "python3",
      "display_name": "Python 3"
    }
  },
  "cells": [
    {
      "cell_type": "markdown",
      "metadata": {
        "id": "view-in-github",
        "colab_type": "text"
      },
      "source": [
        "<a href=\"https://colab.research.google.com/github/juliano-soares/Imersao_dados_alura-2020/blob/main/Imersao_de_dados_alura.ipynb\" target=\"_parent\"><img src=\"https://colab.research.google.com/assets/colab-badge.svg\" alt=\"Open In Colab\"/></a>"
      ]
    },
    {
      "cell_type": "markdown",
      "metadata": {
        "id": "UWYHXwAppmhb"
      },
      "source": [
        "## Aula 1"
      ]
    },
    {
      "cell_type": "code",
      "metadata": {
        "id": "z9XYg7h2FcNq"
      },
      "source": [
        "import pandas as pd\n",
        "\n",
        "fonte = \"https://github.com/alura-cursos/imersao-dados-2-2020/blob/master/MICRODADOS_ENEM_2019_SAMPLE_43278.csv?raw=true\"\n",
        "\n",
        "dados = pd.read_csv(fonte)\n",
        "dados.head()"
      ],
      "execution_count": null,
      "outputs": []
    },
    {
      "cell_type": "code",
      "metadata": {
        "id": "roHaxkDKHfDt"
      },
      "source": [
        "dados.shape"
      ],
      "execution_count": null,
      "outputs": []
    },
    {
      "cell_type": "code",
      "metadata": {
        "id": "nE1TlKlrHr1y"
      },
      "source": [
        "dados[\"SG_UF_RESIDENCIA\"]"
      ],
      "execution_count": null,
      "outputs": []
    },
    {
      "cell_type": "code",
      "metadata": {
        "id": "iKsMyeSjJvCa"
      },
      "source": [
        "dados.columns.values"
      ],
      "execution_count": null,
      "outputs": []
    },
    {
      "cell_type": "code",
      "metadata": {
        "id": "4RinKz2RKws6"
      },
      "source": [
        "dados[[\"SG_UF_RESIDENCIA\", \"Q025\"]]"
      ],
      "execution_count": null,
      "outputs": []
    },
    {
      "cell_type": "code",
      "metadata": {
        "id": "9XyBWm9DL3hI"
      },
      "source": [
        "dados[\"SG_UF_RESIDENCIA\"]"
      ],
      "execution_count": null,
      "outputs": []
    },
    {
      "cell_type": "code",
      "metadata": {
        "id": "WEH6_lABMT2T"
      },
      "source": [
        "dados[\"SG_UF_RESIDENCIA\"].unique()"
      ],
      "execution_count": null,
      "outputs": []
    },
    {
      "cell_type": "code",
      "metadata": {
        "id": "kDXEe1rxMY0D"
      },
      "source": [
        "len(dados[\"SG_UF_RESIDENCIA\"].unique())"
      ],
      "execution_count": null,
      "outputs": []
    },
    {
      "cell_type": "code",
      "metadata": {
        "id": "yyQaMKoyMeaK"
      },
      "source": [
        "dados[\"SG_UF_RESIDENCIA\"].value_counts()"
      ],
      "execution_count": null,
      "outputs": []
    },
    {
      "cell_type": "code",
      "metadata": {
        "id": "ML7wBPY1MrZL"
      },
      "source": [
        "dados[\"NU_IDADE\"].value_counts()"
      ],
      "execution_count": null,
      "outputs": []
    },
    {
      "cell_type": "code",
      "metadata": {
        "id": "xj2Lmq2_NNPk"
      },
      "source": [
        "dados[\"NU_IDADE\"].value_counts().sort_index()"
      ],
      "execution_count": null,
      "outputs": []
    },
    {
      "cell_type": "code",
      "metadata": {
        "id": "ioQ7i7Q1Oln8"
      },
      "source": [
        "dados[\"NU_IDADE\"].hist()"
      ],
      "execution_count": null,
      "outputs": []
    },
    {
      "cell_type": "code",
      "metadata": {
        "id": "TYd8dPfNO1-n"
      },
      "source": [
        "dados[\"NU_IDADE\"].hist(bins = 20, figsize = (10,8))"
      ],
      "execution_count": null,
      "outputs": []
    },
    {
      "cell_type": "code",
      "metadata": {
        "id": "Al4Yeg7wSFN6"
      },
      "source": [
        ""
      ],
      "execution_count": null,
      "outputs": []
    },
    {
      "cell_type": "code",
      "metadata": {
        "id": "VrQVzO4vNyTP"
      },
      "source": [
        "dados.query(\"IN_TREINEIRO == 1\")[\"NU_IDADE\"].value_counts().sort_index()"
      ],
      "execution_count": null,
      "outputs": []
    },
    {
      "cell_type": "code",
      "metadata": {
        "id": "NCPdzdkeNioz"
      },
      "source": [
        "dados[\"NU_NOTA_REDACAO\"].hist(bins = 20, figsize=(8, 6))"
      ],
      "execution_count": null,
      "outputs": []
    },
    {
      "cell_type": "code",
      "metadata": {
        "id": "2tJt5q4dSolR"
      },
      "source": [
        "dados[\"NU_NOTA_LC\"].hist(bins = 20, figsize=(8, 6))"
      ],
      "execution_count": null,
      "outputs": []
    },
    {
      "cell_type": "code",
      "metadata": {
        "id": "BDLcSca0S8nd"
      },
      "source": [
        "dados[\"NU_NOTA_REDACAO\"].mean()"
      ],
      "execution_count": null,
      "outputs": []
    },
    {
      "cell_type": "code",
      "metadata": {
        "id": "Vz4VGeogTHRw"
      },
      "source": [
        "dados[\"NU_NOTA_REDACAO\"].std()"
      ],
      "execution_count": null,
      "outputs": []
    },
    {
      "cell_type": "code",
      "metadata": {
        "id": "YeKjZt4oTS5o"
      },
      "source": [
        "provas = [\"NU_NOTA_CN\",\"NU_NOTA_CH\",\"NU_NOTA_MT\",\"NU_NOTA_LC\",\"NU_NOTA_REDACAO\"]\n",
        "\n",
        "dados[provas].describe()"
      ],
      "execution_count": null,
      "outputs": []
    },
    {
      "cell_type": "code",
      "metadata": {
        "id": "FMaMoSUyUD_8"
      },
      "source": [
        "dados[\"NU_NOTA_LC\"].quantile(0.1)"
      ],
      "execution_count": null,
      "outputs": []
    },
    {
      "cell_type": "code",
      "metadata": {
        "id": "03RSXG1vVQOi"
      },
      "source": [
        "dados[\"NU_NOTA_LC\"].plot.box(grid = True, figsize=(8,6))"
      ],
      "execution_count": null,
      "outputs": []
    },
    {
      "cell_type": "code",
      "metadata": {
        "id": "y_62npBVWvW5"
      },
      "source": [
        "dados[provas].boxplot(grid=True, figsize= (10,8))"
      ],
      "execution_count": null,
      "outputs": []
    },
    {
      "cell_type": "markdown",
      "metadata": {
        "id": "2iyYYnhjNzRr"
      },
      "source": [
        "Desafio01: Proporção dos inscritos por idade.\n",
        "\n",
        "Desafio02: Descobrir de quais estados são os inscritos com 13 anos.\n",
        "\n",
        "Desafio03: Adicionar título no gráfico\n",
        "\n",
        "Desafio04: Plotar os Histogramas das idades dos do treineiro e não treineiros.\n",
        "\n",
        "Desafio05: Comparar as distribuições das provas em inglês espanhol\n",
        "\n",
        "Desafio06: Explorar a documentações e visualizações com matplotlib ou pandas e gerar novas visualizações."
      ]
    },
    {
      "cell_type": "markdown",
      "metadata": {
        "id": "BZlUU335HJZS"
      },
      "source": [
        "## Aula 02"
      ]
    },
    {
      "cell_type": "code",
      "metadata": {
        "id": "nPG7t_YtHI5a"
      },
      "source": [
        "dados.query(\"NU_IDADE == 13\")"
      ],
      "execution_count": null,
      "outputs": []
    },
    {
      "cell_type": "code",
      "metadata": {
        "id": "b8Z64spVCxEd"
      },
      "source": [
        "dados.query(\"NU_IDADE <= 14\")[\"SG_UF_RESIDENCIA\"].value_counts()"
      ],
      "execution_count": null,
      "outputs": []
    },
    {
      "cell_type": "code",
      "metadata": {
        "id": "sqS5PRDaIXVb"
      },
      "source": [
        "dados.query(\"NU_IDADE <= 14\")[\"SG_UF_RESIDENCIA\"].value_counts(normalize=True)"
      ],
      "execution_count": null,
      "outputs": []
    },
    {
      "cell_type": "code",
      "metadata": {
        "id": "TLl6Z1IeJJs8"
      },
      "source": [
        "alunos_menor_quartoze = dados.query(\"NU_IDADE <= 14\")\n",
        "alunos_menor_quartoze[\"SG_UF_RESIDENCIA\"].value_counts().plot.pie(figsize=(10,8))"
      ],
      "execution_count": null,
      "outputs": []
    },
    {
      "cell_type": "code",
      "metadata": {
        "id": "OKGKHYz7KPcz"
      },
      "source": [
        "alunos_menor_quartoze[\"SG_UF_RESIDENCIA\"].value_counts(normalize = True).plot.bar(figsize=(10,8))"
      ],
      "execution_count": null,
      "outputs": []
    },
    {
      "cell_type": "code",
      "metadata": {
        "id": "8pZMPrlWLqxk"
      },
      "source": [
        "len(alunos_menor_quartoze)"
      ],
      "execution_count": null,
      "outputs": []
    },
    {
      "cell_type": "code",
      "metadata": {
        "id": "dBj4lqiOM-tL"
      },
      "source": [
        "import seaborn as sns\n",
        "import matplotlib.pyplot as plt\n",
        "\n",
        "plt.figure(figsize=(10, 8))\n",
        "sns.boxplot(x=\"Q006\", y = \"NU_NOTA_MT\", data = dados)\n",
        "plt.title(\"Boxplot das notas de matemática pela renda\")"
      ],
      "execution_count": null,
      "outputs": []
    },
    {
      "cell_type": "code",
      "metadata": {
        "id": "d7ec4hqHOMz0"
      },
      "source": [
        "renda_ordenada = dados[\"Q006\"].unique()\n",
        "renda_ordenada.sort()"
      ],
      "execution_count": null,
      "outputs": []
    },
    {
      "cell_type": "code",
      "metadata": {
        "id": "gmKZikIfPPrD"
      },
      "source": [
        "renda_ordenada"
      ],
      "execution_count": null,
      "outputs": []
    },
    {
      "cell_type": "code",
      "metadata": {
        "id": "Sy5W5bGIPYNv"
      },
      "source": [
        "plt.figure(figsize=(10, 6))\n",
        "sns.boxplot(x=\"Q006\", y = \"NU_NOTA_MT\", data = dados, order = renda_ordenada)\n",
        "plt.title(\"Boxplot das notas de matemática pela renda\")"
      ],
      "execution_count": null,
      "outputs": []
    },
    {
      "cell_type": "code",
      "metadata": {
        "id": "K_Qk_WbaQuuB"
      },
      "source": [
        "dados[provas].sum()"
      ],
      "execution_count": null,
      "outputs": []
    },
    {
      "cell_type": "code",
      "metadata": {
        "id": "eqS_hIkvRA0O"
      },
      "source": [
        "\n",
        "dados[\"NU_NOTA_TOTAL\"] = dados[provas].sum(axis=1)\n",
        "dados.head()"
      ],
      "execution_count": null,
      "outputs": []
    },
    {
      "cell_type": "code",
      "metadata": {
        "id": "PbqC-d1mRcdQ"
      },
      "source": [
        "plt.figure(figsize=(10, 6))\n",
        "sns.boxplot(x=\"Q006\", y = \"NU_NOTA_TOTAL\", data = dados, order = renda_ordenada)\n",
        "plt.title(\"Boxplot das notas de total pela renda\")"
      ],
      "execution_count": null,
      "outputs": []
    },
    {
      "cell_type": "code",
      "metadata": {
        "id": "M1dZw-EUSf03"
      },
      "source": [
        "sns.displot(dados, x =\"NU_NOTA_TOTAL\")"
      ],
      "execution_count": null,
      "outputs": []
    },
    {
      "cell_type": "code",
      "metadata": {
        "id": "HX2i1uknS2uT"
      },
      "source": [
        "provas = [\"NU_NOTA_CN\",\"NU_NOTA_CH\",\"NU_NOTA_MT\",\"NU_NOTA_LC\",\"NU_NOTA_REDACAO\"]\n",
        "provas.append(\"NU_NOTA_TOTAL\")\n",
        "dados[provas].query(\"NU_NOTA_TOTAL == 0\")"
      ],
      "execution_count": null,
      "outputs": []
    },
    {
      "cell_type": "code",
      "metadata": {
        "id": "GKw2G33sUiHQ"
      },
      "source": [
        "dados_sem_notas_zero = dados.query(\"NU_NOTA_TOTAL != 0\")\n",
        "dados_sem_notas_zero.head()"
      ],
      "execution_count": null,
      "outputs": []
    },
    {
      "cell_type": "code",
      "metadata": {
        "id": "fUEzdhqiXBpv"
      },
      "source": [
        "plt.figure(figsize=(10, 6))\n",
        "sns.boxplot(x=\"Q006\", y = \"NU_NOTA_TOTAL\", data = dados_sem_notas_zero, order = renda_ordenada)\n",
        "plt.title(\"Boxplot das notas de total pela renda\")"
      ],
      "execution_count": null,
      "outputs": []
    },
    {
      "cell_type": "code",
      "metadata": {
        "id": "OeFkN4ttXiOH"
      },
      "source": [
        "plt.figure(figsize=(14, 8))\n",
        "sns.boxplot(x=\"Q006\", y = \"NU_NOTA_TOTAL\", data = dados_sem_notas_zero, \n",
        "            hue = \"IN_TREINEIRO\", order = renda_ordenada)\n",
        "plt.title(\"Boxplot das notas de total pela renda\")"
      ],
      "execution_count": null,
      "outputs": []
    },
    {
      "cell_type": "markdown",
      "metadata": {
        "id": "FH5KDYQDM_Wi"
      },
      "source": [
        "MEGA DESAFIO DA THAINÁ: Pegar a amostra completa dos alunos de 13 e 14 anos\n",
        "\n",
        "Desafio do Gui bonzinho: aumentar a amostra para alunos menor de idade e compara a proporção por estado.\n",
        "\n",
        "Desafio 3: Criar uma função para plotar o boxplot do seaborn\n",
        "\n",
        "Desafio 4: Verificar se quem zerou a prova foi eliminado ou não estava presente\n",
        "\n",
        "Desafio 5: Quem é eliminado tira zero ou será NaN (não teve registro de notas)\n",
        "\n",
        "DEsafio 6: Verificar a proporção dos participantes de rendas mais altas e mais baixas como treineiro e não treineiro.\n",
        "\n",
        "Desafio 7: Fazer o mesmo boxplot olhando para a questão 25 (tem internet ou não) e fazer uma reflexão sobre o assunto e o contexto de pandemia."
      ]
    },
    {
      "cell_type": "markdown",
      "metadata": {
        "id": "wDoPzeDiG1Mo"
      },
      "source": [
        "## Aula 03"
      ]
    },
    {
      "cell_type": "code",
      "metadata": {
        "id": "G7i10vedUd9m"
      },
      "source": [
        "plt.figure(figsize=(12,8))\n",
        "sns.histplot(dados_sem_notas_zero, x = \"NU_NOTA_TOTAL\")"
      ],
      "execution_count": null,
      "outputs": []
    },
    {
      "cell_type": "code",
      "metadata": {
        "id": "F2wLEf24MnW0"
      },
      "source": [
        "plt.figure(figsize=(12,8))\n",
        "sns.histplot(dados_sem_notas_zero, x = \"NU_NOTA_MT\")"
      ],
      "execution_count": null,
      "outputs": []
    },
    {
      "cell_type": "code",
      "metadata": {
        "id": "Izw1KIclHYs0"
      },
      "source": [
        "plt.figure(figsize=(12,8))\n",
        "sns.histplot(dados_sem_notas_zero, x = \"NU_NOTA_LC\")"
      ],
      "execution_count": null,
      "outputs": []
    },
    {
      "cell_type": "code",
      "metadata": {
        "id": "3lzMKIQtIkEf"
      },
      "source": [
        "plt.figure(figsize=(12,8))\n",
        "sns.histplot(dados_sem_notas_zero, x = \"NU_NOTA_TOTAL\", hue=\"Q025\", kde=True)"
      ],
      "execution_count": null,
      "outputs": []
    },
    {
      "cell_type": "code",
      "metadata": {
        "id": "D84AeV85Jb71"
      },
      "source": [
        "plt.figure(figsize=(12,8))\n",
        "sns.histplot(dados_sem_notas_zero, x = \"NU_NOTA_TOTAL\", hue=\"Q025\", kde=True, stat=\"probability\")"
      ],
      "execution_count": null,
      "outputs": []
    },
    {
      "cell_type": "code",
      "metadata": {
        "id": "WTCNlG_iKsO8"
      },
      "source": [
        "plt.figure(figsize=(12,8))\n",
        "sns.histplot(dados_sem_notas_zero, x = \"NU_NOTA_TOTAL\", hue=\"Q025\", kde=True, stat=\"density\", cumulative=True)"
      ],
      "execution_count": null,
      "outputs": []
    },
    {
      "cell_type": "code",
      "metadata": {
        "id": "qQo-NmTFLGgX"
      },
      "source": [
        "plt.figure(figsize=(10, 10))\n",
        "sns.scatterplot(data = dados_sem_notas_zero, x=\"NU_NOTA_MT\", y=\"NU_NOTA_LC\", hue=\"Q025\")\n",
        "plt.xlim((-50, 1050))\n",
        "plt.ylim((-50, 1050))"
      ],
      "execution_count": null,
      "outputs": []
    },
    {
      "cell_type": "code",
      "metadata": {
        "id": "OLdCI88ROtYB"
      },
      "source": [
        "provas"
      ],
      "execution_count": null,
      "outputs": []
    },
    {
      "cell_type": "code",
      "metadata": {
        "id": "ksEK3KhxMTHo"
      },
      "source": [
        "sns.pairplot(dados_sem_notas_zero[provas])"
      ],
      "execution_count": null,
      "outputs": []
    },
    {
      "cell_type": "code",
      "metadata": {
        "id": "heCAW7TuO4Wk"
      },
      "source": [
        "correlacao = dados_sem_notas_zero[provas].corr()\n",
        "correlacao"
      ],
      "execution_count": null,
      "outputs": []
    },
    {
      "cell_type": "code",
      "metadata": {
        "id": "TUivMgz6SYXD"
      },
      "source": [
        "sns.heatmap(correlacao, cmap=\"Blues\", center=0, annot=True)"
      ],
      "execution_count": null,
      "outputs": []
    },
    {
      "cell_type": "markdown",
      "metadata": {
        "id": "ILxPJbfYIuTE"
      },
      "source": [
        "Desafio: Plotar as médias, medianas e moda nas notas de LC e MT (matiplotlib linha vertical)\n",
        "\n",
        "Desafio2: Melhorar a visualização da matriz de correlação e analisar mais detalhadamente.\n",
        "\n",
        "Desafio3: Filtrar as notas por seu estado ou sua cidade e refazer as análises, verificando se são semelhantes ao geral.\n",
        "\n",
        "Desafio4: Pensar sobre a correlação entre matemática e Linguagens."
      ]
    },
    {
      "cell_type": "markdown",
      "metadata": {
        "id": "oN4RLg9XcKpw"
      },
      "source": [
        "## Aula 04"
      ]
    },
    {
      "cell_type": "code",
      "metadata": {
        "id": "aqtcVuDbmaIf"
      },
      "source": [
        "provas"
      ],
      "execution_count": null,
      "outputs": []
    },
    {
      "cell_type": "code",
      "metadata": {
        "id": "b9MD2C52eTyL"
      },
      "source": [
        "provas_entrada = [\"NU_NOTA_CH\",\"NU_NOTA_LC\", \"NU_NOTA_CN\",\"NU_NOTA_REDACAO\"]\n",
        "prova_saida = \"NU_NOTA_MT\"\n",
        "dados_sem_notas_zero = dados_sem_notas_zero[provas].dropna()\n",
        "notas_entrada = dados_sem_notas_zero[provas_entrada]\n",
        "notas_saida = dados_sem_notas_zero[prova_saida]\n",
        "\n"
      ],
      "execution_count": null,
      "outputs": []
    },
    {
      "cell_type": "code",
      "metadata": {
        "id": "KX6Lj8_Lj1nP"
      },
      "source": [
        "notas_entrada"
      ],
      "execution_count": null,
      "outputs": []
    },
    {
      "cell_type": "code",
      "metadata": {
        "id": "Dsxn6pYOj580"
      },
      "source": [
        "x = notas_entrada\n",
        "y = notas_saida "
      ],
      "execution_count": null,
      "outputs": []
    },
    {
      "cell_type": "code",
      "metadata": {
        "id": "_ZQpYtCQkGeM"
      },
      "source": [
        "from sklearn.model_selection import train_test_split\n",
        "\n",
        "SEED = 4321\n",
        "\n",
        "x_treino, x_teste, y_treino, y_teste = train_test_split(x, y, test_size = 0.25,\n",
        "                                                        random_state=SEED)"
      ],
      "execution_count": null,
      "outputs": []
    },
    {
      "cell_type": "code",
      "metadata": {
        "id": "OQTUUyAalgvI"
      },
      "source": [
        "from sklearn.svm import LinearSVR\n",
        "\n",
        "modelo = LinearSVR(random_state = SEED)\n",
        "modelo.fit(x_treino, y_treino)"
      ],
      "execution_count": null,
      "outputs": []
    },
    {
      "cell_type": "code",
      "metadata": {
        "id": "QCMgH0TSl_za"
      },
      "source": [
        "predicoes_matematica = modelo.predict(x_teste)"
      ],
      "execution_count": null,
      "outputs": []
    },
    {
      "cell_type": "code",
      "metadata": {
        "id": "vxxvvZegm_4E"
      },
      "source": [
        "y_teste[:5]"
      ],
      "execution_count": null,
      "outputs": []
    },
    {
      "cell_type": "code",
      "metadata": {
        "id": "YFvp8RjWnEqH"
      },
      "source": [
        "plt.figure(figsize=(8, 8))\n",
        "sns.scatterplot(x=predicoes_matematica, y=y_teste)\n",
        "plt.xlim((-50, 1050))\n",
        "plt.ylim((-50, 1050))"
      ],
      "execution_count": null,
      "outputs": []
    },
    {
      "cell_type": "code",
      "metadata": {
        "id": "JiQtFgn3np6s"
      },
      "source": [
        "plt.figure(figsize=(8, 8))\n",
        "sns.scatterplot(x=y_teste, y=y_teste - predicoes_matematica)\n"
      ],
      "execution_count": null,
      "outputs": []
    },
    {
      "cell_type": "code",
      "metadata": {
        "id": "9RNd_gLKoUKk"
      },
      "source": [
        "plt.figure(figsize=(8, 8))\n",
        "sns.scatterplot(x=y_teste, y=x_teste.mean(axis=1))\n",
        "plt.xlim((-50, 1050))\n",
        "plt.ylim((-50, 1050))"
      ],
      "execution_count": null,
      "outputs": []
    },
    {
      "cell_type": "code",
      "metadata": {
        "id": "okNf_N2hq6SJ"
      },
      "source": [
        "resultados = pd.DataFrame()\n",
        "resultados[\"Real\"] = y_teste\n",
        "resultados[\"Previsao\"] = predicoes_matematica\n",
        "resultados[\"diferenca\"] = resultados[\"Real\"] - resultados[\"Previsao\"]\n",
        "resultados[\"quadrado_diferenca\"] = (resultados[\"Real\"] - resultados[\"Previsao\"])**2"
      ],
      "execution_count": null,
      "outputs": []
    },
    {
      "cell_type": "code",
      "metadata": {
        "id": "yOh_dQIcrkDX"
      },
      "source": [
        "resultados"
      ],
      "execution_count": null,
      "outputs": []
    },
    {
      "cell_type": "code",
      "metadata": {
        "id": "g13t7Af7r_X7"
      },
      "source": [
        "resultados[\"quadrado_diferenca\"].mean()"
      ],
      "execution_count": null,
      "outputs": []
    },
    {
      "cell_type": "code",
      "metadata": {
        "id": "H1eB2rkIuHYB"
      },
      "source": [
        "resultados[\"quadrado_diferenca\"].mean()**(1/2)"
      ],
      "execution_count": null,
      "outputs": []
    },
    {
      "cell_type": "code",
      "metadata": {
        "id": "RffZg4L-uO-v"
      },
      "source": [
        "from sklearn.dummy import DummyRegressor\n",
        "\n",
        "modelo_dummy = DummyRegressor()\n",
        "modelo_dummy.fit(x_treino, y_treino)\n",
        "dummy_predicoes = modelo_dummy.predict(x_teste)"
      ],
      "execution_count": null,
      "outputs": []
    },
    {
      "cell_type": "code",
      "metadata": {
        "id": "hGAw4on7uz68"
      },
      "source": [
        "from sklearn.metrics import mean_squared_error\n",
        "\n",
        "mean_squared_error(y_teste, dummy_predicoes)"
      ],
      "execution_count": null,
      "outputs": []
    },
    {
      "cell_type": "code",
      "metadata": {
        "id": "hX1q2akDvGik"
      },
      "source": [
        "mean_squared_error(y_teste, predicoes_matematica)"
      ],
      "execution_count": null,
      "outputs": []
    },
    {
      "cell_type": "markdown",
      "metadata": {
        "id": "arh9zRaTviIT"
      },
      "source": [
        "Desafio01: Procurar outro modelo de ML para treinar e comparar com os modelos criados em aula\n",
        "\n",
        "Desafio02: Ler a documentação do Dummy e alterar o método de regressão\n",
        "\n",
        "Desafio03: Buscar outra métrica para avaliar modelos de regressão\n"
      ]
    },
    {
      "cell_type": "markdown",
      "metadata": {
        "id": "YsiFS5dKtp-0"
      },
      "source": [
        "## Aula 05"
      ]
    },
    {
      "cell_type": "code",
      "metadata": {
        "id": "bAbhPCqYvcxb"
      },
      "source": [
        "from sklearn.svm import LinearSVR\n",
        "\n",
        "modelo = LinearSVR(random_state=SEED)\n",
        "modelo.fit(x_treino, y_treino)\n",
        "predicoes_matematica = modelo.predict(x_teste)\n",
        "mean_squared_error(y_teste, predicoes_matematica)"
      ],
      "execution_count": null,
      "outputs": []
    },
    {
      "cell_type": "code",
      "metadata": {
        "id": "XeS9pHeet7-V"
      },
      "source": [
        "from sklearn.tree import DecisionTreeRegressor\n",
        "\n",
        "x_treino, x_teste, y_treino, y_teste = train_test_split(x, y, test_size=0.25)\n",
        "modelo_arvore = DecisionTreeRegressor(max_depth = 3)\n",
        "modelo_arvore.fit(x_treino, y_treino)\n",
        "predicoes_matematica_arvore = modelo_arvore.predict(x_teste)\n",
        "mean_squared_error(y_teste, predicoes_matematica_arvore)\n"
      ],
      "execution_count": null,
      "outputs": []
    },
    {
      "cell_type": "code",
      "metadata": {
        "id": "lY8-sJTzvnhT"
      },
      "source": [
        "from sklearn.model_selection import cross_validate\n",
        "\n",
        "modelo_arvore = DecisionTreeRegressor(max_depth=2)\n",
        "resultados = cross_validate(modelo_arvore, x, y, cv= 10, scoring=\"neg_mean_squared_error\")\n",
        "media = (resultados[\"test_score\"]*-1).mean()\n",
        "\n"
      ],
      "execution_count": null,
      "outputs": []
    },
    {
      "cell_type": "code",
      "metadata": {
        "id": "Nu9AV9e5vvPs"
      },
      "source": [
        "from sklearn.model_selection import cross_validate\n",
        "\n",
        "modelo_arvore = DecisionTreeRegressor(max_depth=2)\n",
        "resultados = cross_validate(modelo_arvore, x, y, cv= 10, scoring=\"neg_mean_squared_error\")\n",
        "media = (resultados[\"test_score\"]*-1).mean()\n",
        "desvio_padrao = (resultados[\"test_score\"]*-1).std()\n",
        "lim_inferior = media - (2*desvio_padrao)\n",
        "lim_superior = media + (2*desvio_padrao)\n",
        "\n",
        "print(f\"Intervalo de confiança {lim_inferior} - {lim_superior}\")"
      ],
      "execution_count": null,
      "outputs": []
    },
    {
      "cell_type": "code",
      "metadata": {
        "id": "we1QL6lw2nxd"
      },
      "source": [
        "resultados[\"test_score\"]*-1"
      ],
      "execution_count": null,
      "outputs": []
    },
    {
      "cell_type": "code",
      "metadata": {
        "id": "r2HzqJUP6z9B"
      },
      "source": [
        "def calcula_mse(resultados):\n",
        "    media = (resultados[\"test_score\"]*-1).mean()\n",
        "    desvio_padrao = (resultados[\"test_score\"]*-1).std()\n",
        "    lim_inferior = media - (2*desvio_padrao)\n",
        "    lim_superior = media + (2*desvio_padrao)\n",
        "    print(f\"Intervalo de confiança {lim_inferior} - {lim_superior}\")"
      ],
      "execution_count": null,
      "outputs": []
    },
    {
      "cell_type": "code",
      "metadata": {
        "id": "Q_mhyKIL7BXO"
      },
      "source": [
        "from sklearn.model_selection import cross_validate\n",
        "from sklearn.model_selection import KFold\n",
        "import numpy as np\n",
        "\n",
        "SEED= 1232\n",
        "np.random.seed(SEED)\n",
        "\n",
        "\n",
        "\n",
        "partes = KFold(n_splits = 10, shuffle=True)\n",
        "modelo_arvore = DecisionTreeRegressor(max_depth=3)\n",
        "resultados = cross_validate(modelo_arvore, x, y, cv= partes, scoring=\"neg_mean_squared_error\")\n",
        "calcula_mse(resultados)"
      ],
      "execution_count": null,
      "outputs": []
    },
    {
      "cell_type": "code",
      "metadata": {
        "id": "2j5f76kD2v-Q"
      },
      "source": [
        "def regressor_arvore(nivel):\n",
        "    SEED= 1232\n",
        "    np.random.seed(SEED)\n",
        "    partes = KFold(n_splits = 10, shuffle=True)\n",
        "    modelo_arvore = DecisionTreeRegressor(max_depth=nivel)\n",
        "    resultados = cross_validate(modelo_arvore, x, y, cv= partes, scoring=\"neg_mean_squared_error\", return_train_score=True)\n",
        "    print(f\"Treino = {(resultados['train_score']*-1).mean()}|Teste = {(resultados['test_score']*-1).mean()}\")\n",
        "\n",
        "regressor_arvore(4)"
      ],
      "execution_count": null,
      "outputs": []
    },
    {
      "cell_type": "code",
      "metadata": {
        "id": "zxNNI6py_RlW"
      },
      "source": [
        "for i in range(1,21):\n",
        "    regressor_arvore(i)"
      ],
      "execution_count": null,
      "outputs": []
    },
    {
      "cell_type": "markdown",
      "metadata": {
        "id": "O205B_LH6TSS"
      },
      "source": [
        "Desafio 01: Pesquisar sobre intervalo de confiança (Quem quiser discutir no Discord, estaremos lá)\n",
        "\n",
        "Desafio 02: Testar com outros parâmetros da árvore de decisão\n",
        "\n",
        "Desafio 03: Procurar outras formas de realizar os ajustes de parâmetros com o Sklearn\n",
        "\n",
        "Desafio 04: Pesquisar o que é o problema de underfit.\n",
        "\n",
        "Desafio 05: Plotar um gráfico com test_score e train_test.\n",
        "\n"
      ]
    },
    {
      "cell_type": "code",
      "metadata": {
        "id": "K3B8l1SX_jxU"
      },
      "source": [
        ""
      ],
      "execution_count": null,
      "outputs": []
    },
    {
      "cell_type": "markdown",
      "metadata": {
        "id": "7hK8d1ukIRmJ"
      },
      "source": [
        ""
      ]
    },
    {
      "cell_type": "markdown",
      "metadata": {
        "id": "1JultYvRkwF9"
      },
      "source": [
        "# Desafios Aula 01"
      ]
    },
    {
      "cell_type": "markdown",
      "metadata": {
        "id": "QtpgeT5Hk9xG"
      },
      "source": [
        "Desafio01: Proporção dos inscritos por idade."
      ]
    },
    {
      "cell_type": "code",
      "metadata": {
        "id": "ORfeH1HwpY2G"
      },
      "source": [
        "dados['NU_IDADE'].value_counts(normalize=True).sort_values(ascending=False).head()"
      ],
      "execution_count": null,
      "outputs": []
    },
    {
      "cell_type": "markdown",
      "metadata": {
        "id": "1iluGD1lpdku"
      },
      "source": [
        "Desafio02: Descobrir de quais estados são os inscritos com 13 anos."
      ]
    },
    {
      "cell_type": "code",
      "metadata": {
        "id": "BSrAkg3ZpfGJ"
      },
      "source": [
        "dados.query(\"NU_IDADE == 13\")['SG_UF_RESIDENCIA'].unique()"
      ],
      "execution_count": null,
      "outputs": []
    },
    {
      "cell_type": "markdown",
      "metadata": {
        "id": "nl7uISEjpluK"
      },
      "source": [
        "Desafio03: Adicionar título no gráfico"
      ]
    },
    {
      "cell_type": "code",
      "metadata": {
        "id": "Bcz9ixjZpm6U"
      },
      "source": [
        "import matplotlib.pyplot as plt\n",
        "dados['NU_NOTA_REDACAO'].plot.hist(bins=20, figsize=(8, 6), title=\"Grafico de distribuição das notas de redação\", grid=True)\n",
        "dados[provas].plot.box(grid=True, figsize= (10,8), title=\"Grafico de distribuição das notas de redação\")"
      ],
      "execution_count": null,
      "outputs": []
    },
    {
      "cell_type": "markdown",
      "metadata": {
        "id": "obPbfw0epydY"
      },
      "source": [
        "Desafio04: Plotar os Histogramas das idades dos do treineiro e não treineiros."
      ]
    },
    {
      "cell_type": "code",
      "metadata": {
        "id": "Rdmm_XRip0zr"
      },
      "source": [
        "dados_nao_treineiros = dados.query(\"IN_TREINEIRO == 0\")\n",
        "dados_nao_treineiros['NU_IDADE'].hist(bins=20, figsize=(8, 6))\n",
        "\n",
        "dados_sim_treineiros = dados.query(\"IN_TREINEIRO == 1\")\n",
        "dados_sim_treineiros['NU_IDADE'].hist(bins=10, figsize=(8, 6))"
      ],
      "execution_count": null,
      "outputs": []
    },
    {
      "cell_type": "markdown",
      "metadata": {
        "id": "N4KfUr7Tp50v"
      },
      "source": [
        "Desafio05: Comparar as distribuições das provas em inglês espanhol"
      ]
    },
    {
      "cell_type": "code",
      "metadata": {
        "id": "Ui9ki2K2p6pS"
      },
      "source": [
        "dados_ingles = dados.query(\"TP_LINGUA == 0\")['NU_NOTA_LC']\n",
        "dados_ingles.plot.box(grid=True, figsize=(8, 6))\n",
        "_ = plt.title(\"Grafico de caixa das notas de linguagem e códigos para quem escolheu inglês\")\n",
        "\n",
        "dados_espanhol = dados.query(\"TP_LINGUA == 1\")['NU_NOTA_LC']\n",
        "dados_espanhol.plot.box(grid=True, figsize=(8, 6))\n",
        "_ = plt.title(\"Grafico de caixa das notas de linguagem e códigos para quem escolheu espanhol\")"
      ],
      "execution_count": null,
      "outputs": []
    },
    {
      "cell_type": "markdown",
      "metadata": {
        "id": "SIL7DCInqBw4"
      },
      "source": [
        "Desafio06: Explorar a documentações e visualizações com matplotlib ou pandas e gerar novas visualizações."
      ]
    },
    {
      "cell_type": "code",
      "metadata": {
        "id": "n_sWpBsAqD9W"
      },
      "source": [
        "idiomas = ['Espanhol','Ingles']\n",
        "dados_por_idioma = pd.concat([dados_espanhol, dados_ingles], axis=1, names = idiomas)\n",
        "dados_por_idioma.columns = idiomas\n",
        "dados_por_idioma.plot.box(grid=True, figsize=(8, 6))\n",
        "_ = plt.title(\"Grafico de caixa das notas de linguagem e códigos separado entre inglês e espanhol\")\n",
        "\n",
        "idiomas = ['Espanhol','Ingles']\n",
        "\n",
        "ing = dados.query(\"TP_LINGUA == 0\")['NU_NOTA_LC']\n",
        "esp = dados.query(\"TP_LINGUA == 1\")['NU_NOTA_LC']\n",
        "\n",
        "\n",
        "dados_por_idioma = pd.concat([esp, ing], axis=1, names = idiomas)\n",
        "dados_por_idioma.columns = idiomas\n",
        "dados_por_idioma.plot.box(grid=True, figsize=(8, 6))"
      ],
      "execution_count": null,
      "outputs": []
    },
    {
      "cell_type": "markdown",
      "metadata": {
        "id": "YFwGeZp3ILYg"
      },
      "source": [
        "# Desfios Aula 02"
      ]
    },
    {
      "cell_type": "markdown",
      "metadata": {
        "id": "eF51YCtzJaC8"
      },
      "source": [
        "Pegar a amostra completa dos alunos de 13 e 14 anos"
      ]
    },
    {
      "cell_type": "markdown",
      "metadata": {
        "id": "pSWkZI5wIWyP"
      },
      "source": [
        "Desafio do Gui bonzinho: aumentar a amostra para alunos menor de idade e compara a proporção por estado."
      ]
    },
    {
      "cell_type": "code",
      "metadata": {
        "id": "kHWQydBRIhr0"
      },
      "source": [
        "dados.query(\"NU_IDADE < 18\")['SG_UF_RESIDENCIA'].value_counts(normalize=True).sort_values(ascending=False).head()"
      ],
      "execution_count": null,
      "outputs": []
    },
    {
      "cell_type": "markdown",
      "metadata": {
        "id": "ENuA4sPYIlZC"
      },
      "source": [
        "Desafio 3: Criar uma função para plotar o boxplot do seaborn"
      ]
    },
    {
      "cell_type": "code",
      "metadata": {
        "id": "Sjyu2_jWIsfw"
      },
      "source": [
        "def plot_box(y):\n",
        "    plt.figure(figsize=(10, 6))\n",
        "    sns.boxplot(x='Q006', y=y, data=dados, order=renda_ordenada)\n",
        "\n",
        "plot_box(y=\"NU_NOTA_MT\")"
      ],
      "execution_count": null,
      "outputs": []
    },
    {
      "cell_type": "markdown",
      "metadata": {
        "id": "BCeAiATKI023"
      },
      "source": [
        "Desafio 4: Verificar se quem zerou a prova foi eliminado ou não estava presente"
      ]
    },
    {
      "cell_type": "code",
      "metadata": {
        "id": "J8MERNIxI4lH"
      },
      "source": [
        "#total que tirou zero\n",
        "len(dados.query('NU_NOTA_TOTAL == 0'))\n",
        "\n",
        "#ausente em alguma prova\n",
        "len(dados.query('NU_NOTA_TOTAL == 0').query('TP_PRESENCA_CN == 0 or TP_PRESENCA_CH == 0 or TP_PRESENCA_LC == 0 or TP_PRESENCA_MT == 0'))\n",
        "\n",
        "#eliminado em alguma prova\n",
        "len(dados.query('NU_NOTA_TOTAL == 0').query('TP_PRESENCA_CN == 2 or TP_PRESENCA_CH == 2 or TP_PRESENCA_LC == 2 or TP_PRESENCA_MT == 2'))"
      ],
      "execution_count": null,
      "outputs": []
    },
    {
      "cell_type": "markdown",
      "metadata": {
        "id": "M0FQhTV_JBCa"
      },
      "source": [
        "Desafio 5: Quem é eliminado tira zero ou será NaN (não teve registro de notas)"
      ]
    },
    {
      "cell_type": "code",
      "metadata": {
        "id": "jCcMDOXMJEUk"
      },
      "source": [
        "#ausente na prova de CN \n",
        "dados.query('TP_PRESENCA_CN == 0')['NU_NOTA_CN'].iloc[0]\n",
        "\n",
        "#eliminado na prova de CN \n",
        "dados.query('TP_PRESENCA_CN == 2')['NU_NOTA_CN'].iloc[0]"
      ],
      "execution_count": null,
      "outputs": []
    },
    {
      "cell_type": "markdown",
      "metadata": {
        "id": "x7Dpt7GrJKJD"
      },
      "source": [
        "DEsafio 6: Verificar a proporção dos participantes de rendas mais altas e mais baixas como treineiro e não treineiro."
      ]
    },
    {
      "cell_type": "code",
      "metadata": {
        "id": "N3cV0zg1JMxH"
      },
      "source": [
        "dados_nao_treineiros = dados.query('IN_TREINEIRO == 0')['Q006'].value_counts(normalize=True)\n",
        "dados_sim_treineiros = dados.query('IN_TREINEIRO == 1')['Q006'].value_counts(normalize=True)\n",
        "\n",
        "df = pd.DataFrame({'Treineiros': dados_nao_treineiros,\n",
        "                   'Não Treineiros': dados_sim_treineiros})\n",
        "\n",
        "df.plot.bar(figsize=(10,8))"
      ],
      "execution_count": null,
      "outputs": []
    },
    {
      "cell_type": "markdown",
      "metadata": {
        "id": "IA8Kl4bdJPfS"
      },
      "source": [
        "Desafio 7: Fazer o mesmo boxplot olhando para a questão 25 (tem internet ou não) e fazer uma reflexão sobre o assunto e o contexto de pandemia."
      ]
    },
    {
      "cell_type": "code",
      "metadata": {
        "id": "apXou8LCJSYs"
      },
      "source": [
        "plt.figure(figsize=(15,8))\n",
        "plt.title(\"Nota TOTAL pela Renda & Internet\")\n",
        "sns.boxplot(x=\"Q025\", y=\"NU_NOTA_TOTAL\", data=dados_sem_notas_zero)\n",
        "\n",
        "# Não possui acesso a internet (A)\n",
        "# Possui acesso a internet (B)"
      ],
      "execution_count": null,
      "outputs": []
    },
    {
      "cell_type": "markdown",
      "metadata": {
        "id": "sjVAN06sJcdx"
      },
      "source": [
        "# Desafios Aula 03"
      ]
    },
    {
      "cell_type": "markdown",
      "metadata": {
        "id": "jblvv0-XJ3aN"
      },
      "source": [
        "Plotar as médias, medianas e moda nas notas de LC e MT (matiplotlib linha vertical)"
      ]
    },
    {
      "cell_type": "code",
      "metadata": {
        "id": "Qf9crr8DJ6Qk"
      },
      "source": [
        "plt.figure(figsize=(12,8))\n",
        "media = dados_sem_notas_zero['NU_NOTA_MT'].mean()\n",
        "moda = dados_sem_notas_zero['NU_NOTA_MT'].mode()[0]\n",
        "mediana = dados_sem_notas_zero['NU_NOTA_MT'].median()\n",
        "ax = sns.histplot(dados_sem_notas_zero, x = \"NU_NOTA_MT\")\n",
        "plt.axvline(media, c='r') \n",
        "plt.axvline(moda, c='g') \n",
        "plt.axvline(mediana, c='b') \n",
        "plt.legend()\n",
        "\n",
        "plt.figure(figsize=(12,8))\n",
        "media = dados_sem_notas_zero['NU_NOTA_LC'].mean()\n",
        "moda = dados_sem_notas_zero['NU_NOTA_LC'].mode()[0]\n",
        "mediana = dados_sem_notas_zero['NU_NOTA_LC'].median()\n",
        "ax = sns.histplot(dados_sem_notas_zero, x = \"NU_NOTA_LC\")\n",
        "plt.axvline(media, c='r') \n",
        "plt.axvline(moda, c='g') \n",
        "plt.axvline(mediana, c='b') \n",
        "plt.legend()"
      ],
      "execution_count": null,
      "outputs": []
    },
    {
      "cell_type": "markdown",
      "metadata": {
        "id": "4JO06OGGKAje"
      },
      "source": [
        "Melhorar a visualização da matriz de correlação e analisar mais detalhadamente."
      ]
    },
    {
      "cell_type": "code",
      "metadata": {
        "id": "XY1JwqAdKDIa"
      },
      "source": [
        "import numpy as np\n",
        "mask = np.zeros_like(correlacao)\n",
        "mask[np.triu_indices_from(mask)] = True\n",
        "sns.heatmap(correlacao, cmap=\"Blues\", center=0, annot=True, mask=mask)"
      ],
      "execution_count": null,
      "outputs": []
    },
    {
      "cell_type": "markdown",
      "metadata": {
        "id": "lsE53F2LKFv_"
      },
      "source": [
        "Filtrar as notas por seu estado ou sua cidade e refazer as análises, verificando se são semelhantes ao geral."
      ]
    },
    {
      "cell_type": "code",
      "metadata": {
        "id": "fE7qXw3CKH9A"
      },
      "source": [
        "dados_sem_notas_zero_sp = dados_sem_notas_zero.query('SG_UF_RESIDENCIA == \"SP\"')\n",
        "dados_sem_notas_zero_sp.head()"
      ],
      "execution_count": null,
      "outputs": []
    },
    {
      "cell_type": "markdown",
      "metadata": {
        "id": "Wz-Q7AiZKLI2"
      },
      "source": [
        "Pensar sobre a correlação entre matemática e Linguagens"
      ]
    },
    {
      "cell_type": "markdown",
      "metadata": {
        "id": "Iq88PQMfKQaY"
      },
      "source": [
        "# Desafios Aula 04"
      ]
    },
    {
      "cell_type": "markdown",
      "metadata": {
        "id": "yXoOon8LKT6c"
      },
      "source": [
        "Procurar outro modelo de ML para treinar e comparar com os modelos criados em aula\n",
        "\n",
        "https://scikit-learn.org/stable/modules/classes.html#module-sklearn.svm"
      ]
    },
    {
      "cell_type": "code",
      "metadata": {
        "id": "U_Z2sxs8Ke_o"
      },
      "source": [
        "from sklearn.tree import DecisionTreeRegressor\n",
        "\n",
        "modelo = DecisionTreeRegressor(random_state=SEED)\n",
        "modelo.fit(x_treino, y_treino)\n",
        "\n",
        "predicoes_matematica = modelo.predict(x_teste)\n",
        "\n",
        "mean_squared_error(y_teste, predicoes_matematica)\n",
        "\n",
        "plt.figure(figsize=(8, 8))\n",
        "sns.scatterplot(x=predicoes_matematica, y=y_teste)\n",
        "plt.xlim((-50, 1050))\n",
        "plt.ylim((-50, 1050))\n",
        "\n",
        "from sklearn.svm import SVR\n",
        "\n",
        "modelo = SVR(C=1.0, epsilon=0.2)\n",
        "modelo.fit(x_treino, y_treino)\n",
        "\n",
        "predicoes_matematica = modelo.predict(x_teste)\n",
        "\n",
        "mean_squared_error(y_teste, predicoes_matematica)\n",
        "\n",
        "plt.figure(figsize=(8, 8))\n",
        "sns.scatterplot(x=predicoes_matematica, y=y_teste)\n",
        "plt.xlim((-50, 1050))\n",
        "plt.ylim((-50, 1050))"
      ],
      "execution_count": null,
      "outputs": []
    },
    {
      "cell_type": "markdown",
      "metadata": {
        "id": "7EuG1rw-Ktq3"
      },
      "source": [
        "Ler a documentação do Dummy e alterar o método de regressão\n",
        "\n",
        "https://scikit-learn.org/stable/modules/generated/sklearn.dummy.DummyRegressor.html#sklearn.dummy.DummyRegressor"
      ]
    },
    {
      "cell_type": "code",
      "metadata": {
        "id": "5Bm-OJs_K0lq"
      },
      "source": [
        "from sklearn.dummy import DummyRegressor\n",
        "\n",
        "modelo_dummy = DummyRegressor(strategy='quantile', quantile=.65)\n",
        "modelo_dummy.fit(x_treino, y_treino)\n",
        "dummy_predicoes = modelo_dummy.predict(x_teste)\n",
        "\n",
        "from sklearn.metrics import mean_squared_error\n",
        "\n",
        "mean_squared_error(y_teste, dummy_predicoes)"
      ],
      "execution_count": null,
      "outputs": []
    },
    {
      "cell_type": "markdown",
      "metadata": {
        "id": "TYbqJE0WK5wE"
      },
      "source": [
        "Buscar outra métrica para avaliar modelos de regressão\n",
        "https://scikit-learn.org/stable/modules/classes.html#sklearn-metrics-metrics"
      ]
    },
    {
      "cell_type": "code",
      "metadata": {
        "id": "31FfpE6YK-3_"
      },
      "source": [
        "from sklearn.metrics import r2_score\n",
        "\n",
        "r2_score(y_teste, dummy_predicoes)\n",
        "\n",
        "from sklearn.metrics import r2_score\n",
        "\n",
        "r2_score(y_teste, predicoes_matematica)"
      ],
      "execution_count": null,
      "outputs": []
    }
  ]
}